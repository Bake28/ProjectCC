{
 "cells": [
  {
   "cell_type": "code",
   "execution_count": 1,
   "id": "770ae75f",
   "metadata": {},
   "outputs": [
    {
     "name": "stdout",
     "output_type": "stream",
     "text": [
      "[ 0.77017136  0.23851639  0.38381841 -0.60880113  1.9942594   0.43218688\n",
      "  0.71573259  0.18443849]\n"
     ]
    }
   ],
   "source": [
    "import numpy as np\n",
    "from sklearn.linear_model import LinearRegression\n",
    "\n",
    "Original = np.genfromtxt('Data/O.csv', delimiter=\",\")\n",
    "\n",
    "Original = np.delete(Original, 0,0) #removing headlines\n",
    "Original_taw = Original[:,0] #selecting first column\n",
    "Original = np.delete(Original, 0,1) #removing taw\n",
    "Original = np.delete(Original, [8,9,10,11,12], 1 ) \n",
    "\n",
    "reg = LinearRegression().fit(Original, Original_taw)\n",
    "print(reg.coef_)\n",
    "\n",
    "\n",
    "\n",
    "\n"
   ]
  },
  {
   "cell_type": "code",
   "execution_count": 2,
   "id": "25902bef",
   "metadata": {},
   "outputs": [
    {
     "name": "stdout",
     "output_type": "stream",
     "text": [
      "(3474, 14)\n"
     ]
    }
   ],
   "source": [
    "Initial_index = np.genfromtxt('1200_points.csv', delimiter=\",\")\n",
    "Initial_index = np.delete(Initial_index, 0,0) #removing headlines\n",
    "Initial_index = np.delete(Initial_index, [0,1,2,3,4,5,6,7,8,9,10,11,12,13], 1 )\n",
    "\n",
    "New = np.genfromtxt('R.csv', delimiter=\",\")\n",
    "New = np.delete(New, 0,0) #removing headlines\n",
    "Initial_values = np.zeros([1,14])\n",
    "\n",
    "print(np.shape(New))\n",
    "\n"
   ]
  },
  {
   "cell_type": "code",
   "execution_count": 3,
   "id": "12f58f3f",
   "metadata": {},
   "outputs": [
    {
     "name": "stdout",
     "output_type": "stream",
     "text": [
      "[[ 0.00000000e+00  0.00000000e+00  0.00000000e+00 ...  0.00000000e+00\n",
      "   0.00000000e+00  0.00000000e+00]\n",
      " [-1.90582443e+00 -5.61573879e-03  6.89641041e-01 ...  2.00206110e+07\n",
      "   4.50000000e+00  2.55900000e+03]\n",
      " [-2.13961626e+00 -4.00802140e-03  6.89641041e-01 ...  2.00206110e+07\n",
      "   2.50000000e+00  2.55700000e+03]\n",
      " ...\n",
      " [-2.65015872e+00 -6.00180072e-04  9.25844945e-01 ...  2.01107070e+07\n",
      "   3.85000000e+00  3.33100000e+03]\n",
      " [-2.46533934e+00 -2.00020003e-04  9.15090011e-01 ...  1.99607180e+07\n",
      "   2.15000000e+00  1.70100000e+03]\n",
      " [-2.19552602e+00 -2.23768747e-01  5.28861986e-01 ...  2.00107200e+07\n",
      "   2.27500000e+00  2.24700000e+03]]\n"
     ]
    }
   ],
   "source": [
    "\n",
    "for index in Initial_index:\n",
    "    for i in range(np.shape(New)[0]):\n",
    "        \n",
    "        if index==New[i][-1]:\n",
    "            Initial_values = np.concatenate([Initial_values,[New[i,:]]])\n",
    "        else:\n",
    "            pass\n",
    "\n",
    "print(Initial_values)\n"
   ]
  },
  {
   "cell_type": "code",
   "execution_count": 4,
   "id": "b272224a",
   "metadata": {
    "scrolled": true
   },
   "outputs": [
    {
     "name": "stdout",
     "output_type": "stream",
     "text": [
      "[[-1.90582443e+00 -5.61573879e-03  6.89641041e-01 ...  2.00206110e+07\n",
      "   4.50000000e+00  2.55900000e+03]\n",
      " [-2.13961626e+00 -4.00802140e-03  6.89641041e-01 ...  2.00206110e+07\n",
      "   2.50000000e+00  2.55700000e+03]\n",
      " [-2.13368656e+00 -8.33463679e-03  6.94146681e-01 ...  2.00206070e+07\n",
      "   2.72500000e+00  2.53800000e+03]\n",
      " ...\n",
      " [-2.65015872e+00 -6.00180072e-04  9.25844945e-01 ...  2.01107070e+07\n",
      "   3.85000000e+00  3.33100000e+03]\n",
      " [-2.46533934e+00 -2.00020003e-04  9.15090011e-01 ...  1.99607180e+07\n",
      "   2.15000000e+00  1.70100000e+03]\n",
      " [-2.19552602e+00 -2.23768747e-01  5.28861986e-01 ...  2.00107200e+07\n",
      "   2.27500000e+00  2.24700000e+03]]\n"
     ]
    }
   ],
   "source": [
    "Initial_values = np.delete(Initial_values, 0,0) #removing headlines\n",
    "print(Initial_values)\n"
   ]
  },
  {
   "cell_type": "code",
   "execution_count": 8,
   "id": "44390de9",
   "metadata": {
    "scrolled": true
   },
   "outputs": [
    {
     "name": "stdout",
     "output_type": "stream",
     "text": [
      "[array([[-1.90582443e+00, -5.61573879e-03,  6.89641041e-01, ...,\n",
      "         2.00206110e+07,  4.50000000e+00,  2.55900000e+03],\n",
      "       [-2.13961626e+00, -4.00802140e-03,  6.89641041e-01, ...,\n",
      "         2.00206110e+07,  2.50000000e+00,  2.55700000e+03],\n",
      "       [-2.13368656e+00, -8.33463679e-03,  6.94146681e-01, ...,\n",
      "         2.00206070e+07,  2.72500000e+00,  2.53800000e+03],\n",
      "       ...,\n",
      "       [-2.65015872e+00, -6.00180072e-04,  9.25844945e-01, ...,\n",
      "         2.01107070e+07,  3.85000000e+00,  3.33100000e+03],\n",
      "       [-2.46533934e+00, -2.00020003e-04,  9.15090011e-01, ...,\n",
      "         1.99607180e+07,  2.15000000e+00,  1.70100000e+03],\n",
      "       [-2.19552602e+00, -2.23768747e-01,  5.28861986e-01, ...,\n",
      "         2.00107200e+07,  2.27500000e+00,  2.24700000e+03]]), 242, 46, 158, 128, 119, 115, 126, 233, 99, 96, 110, 197, 226, 232]\n",
      "[185, 3, 229, 131, 70, 28, 208, 143, 126, 9, 96, 121, 34, 156]\n"
     ]
    }
   ],
   "source": [
    "import random\n",
    "\n",
    "random_list = [Initial_values]\n",
    "# Set a length of the list to 10\n",
    "for i in range(0, 14):\n",
    "    # any random numbers from 0 to 1000\n",
    "    random_list.append(random.randint(0, 250))\n",
    "print(random_list)\n",
    "# Output [994, 287, 65, 994, 936, 462, 839, 160, 689, 624]\n",
    "\n",
    "import random\n",
    "\n",
    "# Generate 10 unique random numbers within a range\n",
    "num_list = random.sample(range(0, 250), 14)\n",
    "print(num_list)\n",
    "# Output [499, 580, 735, 784, 574, 511, 704, 637, 472, 211]"
   ]
  },
  {
   "cell_type": "code",
   "execution_count": null,
   "id": "237b462b",
   "metadata": {},
   "outputs": [],
   "source": []
  },
  {
   "cell_type": "code",
   "execution_count": null,
   "id": "da0fb9b7",
   "metadata": {},
   "outputs": [],
   "source": []
  }
 ],
 "metadata": {
  "kernelspec": {
   "display_name": "Python 3 (ipykernel)",
   "language": "python",
   "name": "python3"
  },
  "language_info": {
   "codemirror_mode": {
    "name": "ipython",
    "version": 3
   },
   "file_extension": ".py",
   "mimetype": "text/x-python",
   "name": "python",
   "nbconvert_exporter": "python",
   "pygments_lexer": "ipython3",
   "version": "3.9.7"
  }
 },
 "nbformat": 4,
 "nbformat_minor": 5
}
